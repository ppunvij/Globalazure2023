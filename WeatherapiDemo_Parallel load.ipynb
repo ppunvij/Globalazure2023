{
  "nbformat": 4,
  "nbformat_minor": 2,
  "metadata": {
    "kernelspec": {
      "name": "synapse_pyspark",
      "display_name": "Synapse PySpark"
    },
    "language_info": {
      "name": "python"
    },
    "save_output": true,
    "synapse_widget": {
      "version": "0.1",
      "state": {}
    }
  },
  "cells": [
    {
      "cell_type": "code",
      "execution_count": 146,
      "outputs": [],
      "metadata": {},
      "source": [
        "import requests\r\n",
        "import json\r\n",
        "from pyspark.sql.functions import col, current_timestamp\r\n",
        "from concurrent.futures import ThreadPoolExecutor, as_completed\r\n",
        "from pyspark.sql.types import StructType, StructField, StringType, LongType, DoubleType, ArrayType, StructType, MapType\r\n",
        "\r\n",
        ""
      ]
    },
    {
      "cell_type": "markdown",
      "metadata": {
        "nteract": {
          "transient": {
            "deleting": false
          }
        }
      },
      "source": [
        "## Adding target container path for ingestion"
      ]
    },
    {
      "cell_type": "code",
      "execution_count": 147,
      "outputs": [],
      "metadata": {
        "jupyter": {
          "source_hidden": false,
          "outputs_hidden": false
        },
        "nteract": {
          "transient": {
            "deleting": false
          }
        }
      },
      "source": [
        "# Constants\r\n",
        "Ingestion_base_path = \"abfss://raw@datademosynapse.dfs.core.windows.net/\"\r\n",
        ""
      ]
    },
    {
      "cell_type": "markdown",
      "metadata": {
        "nteract": {
          "transient": {
            "deleting": false
          }
        }
      },
      "source": [
        "## Defining Base URL and Calling API key from keyvault"
      ]
    },
    {
      "cell_type": "code",
      "execution_count": 148,
      "outputs": [],
      "metadata": {
        "jupyter": {
          "source_hidden": false,
          "outputs_hidden": false
        },
        "nteract": {
          "transient": {
            "deleting": false
          }
        }
      },
      "source": [
        "api_base_url = \"https://api.openweathermap.org/data/2.5/weather\"\r\n",
        "api_key = mssparkutils.credentials.getSecret('glocalazure2023', 'weatherapikey','AzureKeyVault1')\r\n",
        ""
      ]
    },
    {
      "cell_type": "markdown",
      "metadata": {
        "nteract": {
          "transient": {
            "deleting": false
          }
        }
      },
      "source": [
        "## Resuable Base Function with parameter as city name"
      ]
    },
    {
      "cell_type": "code",
      "execution_count": 149,
      "outputs": [],
      "metadata": {
        "jupyter": {
          "source_hidden": false,
          "outputs_hidden": false
        },
        "nteract": {
          "transient": {
            "deleting": false
          }
        }
      },
      "source": [
        "def fetch_weather_data(url, api_key, city):\r\n",
        "    query_params = f\"?q={city}&appid={api_key}\"\r\n",
        "    response = requests.get(f\"{url}{query_params}\")\r\n",
        "\r\n",
        "    return response.json() if response.status_code == 200 else response"
      ]
    },
    {
      "cell_type": "markdown",
      "metadata": {
        "nteract": {
          "transient": {
            "deleting": false
          }
        }
      },
      "source": [
        "## List of cities"
      ]
    },
    {
      "cell_type": "code",
      "execution_count": 150,
      "outputs": [],
      "metadata": {
        "jupyter": {
          "source_hidden": false,
          "outputs_hidden": false
        },
        "nteract": {
          "transient": {
            "deleting": false
          }
        },
        "tags": [
          "parameters"
        ]
      },
      "source": [
        " #City list for weather data retrieval\r\n",
        "city_list = [\"Oslo\", \"Bergen\", \"Mumbai\", \"Jaipur\", \"Dubai\"]\r\n",
        ""
      ]
    },
    {
      "cell_type": "markdown",
      "metadata": {
        "nteract": {
          "transient": {
            "deleting": false
          }
        }
      },
      "source": [
        "## Defining another function to call base function in parallel"
      ]
    },
    {
      "cell_type": "code",
      "execution_count": 151,
      "outputs": [],
      "metadata": {
        "jupyter": {
          "source_hidden": false,
          "outputs_hidden": false
        },
        "nteract": {
          "transient": {
            "deleting": false
          }
        }
      },
      "source": [
        "# Retrieve weather data for each city in parallel\r\n",
        "def fetch_weather_data_parallel(city_list):\r\n",
        "    with ThreadPoolExecutor() as executor:\r\n",
        "        futures = {executor.submit(fetch_weather_data, api_base_url, api_key, city): city for city in city_list}\r\n",
        "\r\n",
        "        weather_data = []\r\n",
        "        for future in as_completed(futures):\r\n",
        "            weather_data.append(future.result())\r\n",
        "\r\n",
        "        return weather_data"
      ]
    },
    {
      "cell_type": "code",
      "execution_count": 152,
      "outputs": [],
      "metadata": {
        "jupyter": {
          "source_hidden": false,
          "outputs_hidden": false
        },
        "nteract": {
          "transient": {
            "deleting": false
          }
        }
      },
      "source": [
        "weather_data = fetch_weather_data_parallel(city_list)"
      ]
    },
    {
      "cell_type": "markdown",
      "metadata": {
        "nteract": {
          "transient": {
            "deleting": false
          }
        }
      },
      "source": [
        "## Reading weather data using RDD to handle JSON data"
      ]
    },
    {
      "cell_type": "code",
      "execution_count": 153,
      "outputs": [],
      "metadata": {
        "jupyter": {
          "source_hidden": false,
          "outputs_hidden": false
        },
        "nteract": {
          "transient": {
            "deleting": false
          }
        }
      },
      "source": [
        "# Define the schema\r\n",
        "weather_schema = StructType([\r\n",
        "    StructField(\"base\", StringType(), True),\r\n",
        "    StructField(\"clouds\", StructType([\r\n",
        "        StructField(\"all\", LongType(), True)\r\n",
        "    ]), True),\r\n",
        "    StructField(\"cod\", LongType(), True),\r\n",
        "    StructField(\"coord\", StructType([\r\n",
        "        StructField(\"lat\", DoubleType(), True),\r\n",
        "        StructField(\"lon\", DoubleType(), True)\r\n",
        "    ]), True),\r\n",
        "    StructField(\"dt\", LongType(), True),\r\n",
        "    StructField(\"id\", LongType(), True),\r\n",
        "    StructField(\"main\", StructType([\r\n",
        "        StructField(\"feels_like\", DoubleType(), True),\r\n",
        "        StructField(\"grnd_level\", LongType(), True),\r\n",
        "        StructField(\"humidity\", LongType(), True),\r\n",
        "        StructField(\"pressure\", LongType(), True),\r\n",
        "        StructField(\"sea_level\", LongType(), True),\r\n",
        "        StructField(\"temp\", DoubleType(), True),\r\n",
        "        StructField(\"temp_max\", DoubleType(), True),\r\n",
        "        StructField(\"temp_min\", DoubleType(), True)\r\n",
        "    ]), True),\r\n",
        "    StructField(\"name\", StringType(), True),\r\n",
        "    StructField(\"sys\", StructType([\r\n",
        "        StructField(\"country\", StringType(), True),\r\n",
        "        StructField(\"id\", LongType(), True),\r\n",
        "        StructField(\"sunrise\", LongType(), True),\r\n",
        "        StructField(\"sunset\", LongType(), True),\r\n",
        "        StructField(\"type\", LongType(), True)\r\n",
        "    ]), True),\r\n",
        "    StructField(\"timezone\", LongType(), True),\r\n",
        "    StructField(\"visibility\", LongType(), True),\r\n",
        "    StructField(\"weather\", ArrayType(StructType([\r\n",
        "        StructField(\"description\", StringType(), True),\r\n",
        "        StructField(\"icon\", StringType(), True),\r\n",
        "        StructField(\"id\", LongType(), True),\r\n",
        "        StructField(\"main\", StringType(), True)\r\n",
        "    ]), True)),\r\n",
        "    StructField(\"wind\", StructType([\r\n",
        "        StructField(\"deg\", LongType(), True),\r\n",
        "        StructField(\"gust\", DoubleType(), True),\r\n",
        "        StructField(\"speed\", DoubleType(), True)\r\n",
        "    ]), True)\r\n",
        "])"
      ]
    },
    {
      "cell_type": "code",
      "execution_count": 154,
      "outputs": [],
      "metadata": {
        "jupyter": {
          "source_hidden": false,
          "outputs_hidden": false
        },
        "nteract": {
          "transient": {
            "deleting": false
          }
        }
      },
      "source": [
        " #Create the DataFrame\r\n",
        "weather_rdd = sc.parallelize(weather_data)\r\n",
        "#weather_df = spark.createDataFrame(weather_rdd, schema=weather_schema)\r\n",
        "weather_df = spark.read.json(weather_rdd, schema=weather_schema)\r\n",
        ""
      ]
    },
    {
      "cell_type": "code",
      "execution_count": 155,
      "outputs": [],
      "metadata": {
        "jupyter": {
          "source_hidden": false,
          "outputs_hidden": false
        },
        "nteract": {
          "transient": {
            "deleting": false
          }
        }
      },
      "source": [
        "weather_df.printSchema()"
      ]
    },
    {
      "cell_type": "code",
      "execution_count": 156,
      "outputs": [],
      "metadata": {
        "jupyter": {
          "source_hidden": false,
          "outputs_hidden": false
        },
        "nteract": {
          "transient": {
            "deleting": false
          }
        },
        "collapsed": false
      },
      "source": [
        "display(weather_df.limit(10))"
      ]
    },
    {
      "cell_type": "markdown",
      "metadata": {
        "nteract": {
          "transient": {
            "deleting": false
          }
        }
      },
      "source": [
        "## Flattening the Weather data"
      ]
    },
    {
      "cell_type": "code",
      "execution_count": 157,
      "outputs": [],
      "metadata": {
        "jupyter": {
          "source_hidden": false,
          "outputs_hidden": false
        },
        "nteract": {
          "transient": {
            "deleting": false
          }
        }
      },
      "source": [
        "\r\n",
        "# Extract values from map columns\r\n",
        "flattened_weather_df = (weather_df\r\n",
        "    .withColumn(\"clouds_all\", col(\"clouds.all\"))\r\n",
        "    .withColumn(\"coord_lon\", col(\"coord.lon\"))\r\n",
        "    .withColumn(\"coord_lat\", col(\"coord.lat\"))\r\n",
        "    .withColumn(\"main_temp\", col(\"main.temp\"))\r\n",
        "    .withColumn(\"main_feels_like\", col(\"main.feels_like\"))\r\n",
        "    .withColumn(\"main_temp_min\", col(\"main.temp_min\"))\r\n",
        "    .withColumn(\"main_temp_max\", col(\"main.temp_max\"))\r\n",
        "    .withColumn(\"main_pressure\", col(\"main.pressure\"))\r\n",
        "    .withColumn(\"main_humidity\", col(\"main.humidity\"))\r\n",
        "    \r\n",
        "    .withColumn(\"sys_type\", col(\"sys.type\"))\r\n",
        "    .withColumn(\"sys_id\", col(\"sys.id\"))\r\n",
        "    .withColumn(\"sys_country\", col(\"sys.country\"))\r\n",
        "    .withColumn(\"sys_sunrise\", col(\"sys.sunrise\"))\r\n",
        "    .withColumn(\"sys_sunset\", col(\"sys.sunset\"))\r\n",
        "    .withColumn(\"wind_speed\", col(\"wind.speed\"))\r\n",
        "    .withColumn(\"wind_deg\", col(\"wind.deg\"))\r\n",
        "    .withColumn(\"weather_main\", col(\"weather\")[0][\"main\"])\r\n",
        "    .withColumn(\"weather_description\", col(\"weather\")[0][\"description\"])\r\n",
        "    .withColumn(\"weather_icon\", col(\"weather\")[0][\"icon\"])\r\n",
        "    .drop(\"clouds\", \"coord\", \"main\", \"rain\", \"sys\", \"wind\", \"weather\"))\r\n",
        "\r\n",
        "\r\n",
        ""
      ]
    },
    {
      "cell_type": "markdown",
      "metadata": {
        "nteract": {
          "transient": {
            "deleting": false
          }
        }
      },
      "source": [
        "## Adding Loaded timestamp and convering temp. to celsius"
      ]
    },
    {
      "cell_type": "code",
      "execution_count": 158,
      "outputs": [],
      "metadata": {
        "jupyter": {
          "source_hidden": false,
          "outputs_hidden": false
        },
        "nteract": {
          "transient": {
            "deleting": false
          }
        }
      },
      "source": [
        "# Convert temperature values to Celsius and add a timestamp\r\n",
        "flattened_weather_df = (flattened_weather_df\r\n",
        "    .withColumn(\"main_temp_celsius\", col(\"main_temp\") - 273.15)\r\n",
        "    .withColumn(\"main_feels_like_celsius\", col(\"main_feels_like\") - 273.15)\r\n",
        "    .withColumn(\"main_temp_min_celsius\", col(\"main_temp_min\") - 273.15)\r\n",
        "    .withColumn(\"main_temp_max_celsius\", col(\"main_temp_max\") - 273.15)\r\n",
        "    .withColumn(\"loaded_at\", current_timestamp()))\r\n",
        "\r\n",
        ""
      ]
    },
    {
      "cell_type": "code",
      "execution_count": 159,
      "outputs": [],
      "metadata": {
        "jupyter": {
          "source_hidden": false,
          "outputs_hidden": false
        },
        "nteract": {
          "transient": {
            "deleting": false
          }
        },
        "collapsed": false
      },
      "source": [
        "display(flattened_weather_df.limit(10))\r\n",
        ""
      ]
    },
    {
      "cell_type": "markdown",
      "metadata": {
        "nteract": {
          "transient": {
            "deleting": false
          }
        }
      },
      "source": [
        "## Ingesting weather data to ADLS"
      ]
    },
    {
      "cell_type": "code",
      "execution_count": 160,
      "outputs": [],
      "metadata": {
        "jupyter": {
          "source_hidden": false,
          "outputs_hidden": false
        },
        "nteract": {
          "transient": {
            "deleting": false
          }
        }
      },
      "source": [
        "# Save weather data to Azure Data Lake Storage\r\n",
        "flattened_weather_df.write.mode(\"append\").format(\"parquet\").option(\"mergeSchema\", \"true\").save(f\"{Igestion_base_path}weather_data\")"
      ]
    }
  ]
}
{
  "nbformat": 4,
  "nbformat_minor": 2,
  "metadata": {
    "kernelspec": {
      "name": "synapse_pyspark",
      "display_name": "Synapse PySpark"
    },
    "language_info": {
      "name": "python"
    },
    "description": null,
    "save_output": true,
    "synapse_widget": {
      "version": "0.1",
      "state": {
        "87ab1172-abb6-49fa-a822-d50595395a63": {
          "type": "Synapse.DataFrame",
          "sync_state": {
            "table": {
              "rows": [
                {
                  "0": "DataPoint890931_2023-04-30T17:39:22.4949468Z",
                  "1": "0",
                  "2": "5280",
                  "3": "60",
                  "4": "2023-04-30 17:39:22.591",
                  "7": {},
                  "8": {}
                },
                {
                  "0": "DataPoint958052_2023-04-30T17:40:22.7120555Z",
                  "1": "0",
                  "2": "5368",
                  "3": "61",
                  "4": "2023-04-30 17:40:22.801",
                  "7": {},
                  "8": {}
                },
                {
                  "0": "DataPoint577573_2023-04-30T17:38:22.3311363Z",
                  "1": "0",
                  "2": "5192",
                  "3": "59",
                  "4": "2023-04-30 17:38:22.408",
                  "7": {},
                  "8": {}
                },
                {
                  "0": "DataPoint563276_2023-04-30T17:41:23.1100607Z",
                  "1": "0",
                  "2": "5456",
                  "3": "62",
                  "4": "2023-04-30 17:41:23.184",
                  "7": {},
                  "8": {}
                }
              ],
              "schema": [
                {
                  "key": "0",
                  "name": "body",
                  "type": "string"
                },
                {
                  "key": "1",
                  "name": "partition",
                  "type": "string"
                },
                {
                  "key": "2",
                  "name": "offset",
                  "type": "string"
                },
                {
                  "key": "3",
                  "name": "sequenceNumber",
                  "type": "bigint"
                },
                {
                  "key": "4",
                  "name": "enqueuedTime",
                  "type": "timestamp"
                },
                {
                  "key": "5",
                  "name": "publisher",
                  "type": "string"
                },
                {
                  "key": "6",
                  "name": "partitionKey",
                  "type": "string"
                },
                {
                  "key": "7",
                  "name": "properties",
                  "type": "MapType(StringType,StringType,true)"
                },
                {
                  "key": "8",
                  "name": "systemProperties",
                  "type": "MapType(StringType,StringType,true)"
                }
              ],
              "truncated": false
            },
            "isSummary": false,
            "language": "scala"
          },
          "persist_state": {
            "view": {
              "type": "details",
              "tableOptions": {},
              "chartOptions": {
                "chartType": "bar",
                "aggregationType": "sum",
                "categoryFieldKeys": [
                  "0"
                ],
                "seriesFieldKeys": [
                  "3"
                ],
                "isStacked": false
              }
            }
          }
        }
      }
    }
  },
  "cells": [
    {
      "cell_type": "code",
      "execution_count": 238,
      "outputs": [
        {
          "output_type": "display_data",
          "data": {
            "application/vnd.livy.statement-meta+json": {
              "spark_pool": "Sparkdemopool",
              "session_id": "3",
              "statement_id": 254,
              "state": "finished",
              "livy_statement_state": "available",
              "queued_time": "2023-04-30T17:42:19.0026517Z",
              "session_start_time": null,
              "execution_start_time": "2023-04-30T17:42:19.2301648Z",
              "execution_finish_time": "2023-04-30T17:42:19.4210312Z",
              "spark_jobs": null,
              "parent_msg_id": "8aa8354e-39ea-4c75-b4d0-98bb78f226ea"
            },
            "text/plain": "StatementMeta(Sparkdemopool, 3, 254, Finished, Available)"
          },
          "metadata": {}
        }
      ],
      "metadata": {},
      "source": [
        "from pyspark.sql.functions import *\r\n",
        "from pyspark.sql.types import *\r\n",
        ""
      ]
    },
    {
      "cell_type": "code",
      "execution_count": 242,
      "outputs": [
        {
          "output_type": "display_data",
          "data": {
            "application/vnd.livy.statement-meta+json": {
              "spark_pool": "Sparkdemopool",
              "session_id": "3",
              "statement_id": 258,
              "state": "finished",
              "livy_statement_state": "available",
              "queued_time": "2023-04-30T17:42:19.3154882Z",
              "session_start_time": null,
              "execution_start_time": "2023-04-30T17:42:20.9248916Z",
              "execution_finish_time": "2023-04-30T17:42:21.1172839Z",
              "spark_jobs": null,
              "parent_msg_id": "e33eb581-829a-4063-a71c-22a460f49ebb"
            },
            "text/plain": "StatementMeta(Sparkdemopool, 3, 258, Finished, Available)"
          },
          "metadata": {}
        }
      ],
      "metadata": {
        "jupyter": {
          "source_hidden": false,
          "outputs_hidden": false
        },
        "nteract": {
          "transient": {
            "deleting": false
          }
        }
      },
      "source": [
        "# Constants\r\n",
        "Ingestion_base_path = \"abfss://raw@datademosynapse.dfs.core.windows.net/Stream/\"\r\n",
        "event_hub='azurefglocaldemo'\r\n",
        "consumer_group='$Default' \r\n",
        "key = mssparkutils.credentials.getSecret('glocalazure2023', 'eventhubconnection','AzureKeyVault1')"
      ]
    },
    {
      "cell_type": "markdown",
      "metadata": {
        "nteract": {
          "transient": {
            "deleting": false
          }
        }
      },
      "source": [
        "## Reading stream from eventhub with configuration defined"
      ]
    },
    {
      "cell_type": "code",
      "execution_count": 243,
      "outputs": [
        {
          "output_type": "display_data",
          "data": {
            "application/vnd.livy.statement-meta+json": {
              "spark_pool": "Sparkdemopool",
              "session_id": "3",
              "statement_id": 259,
              "state": "finished",
              "livy_statement_state": "available",
              "queued_time": "2023-04-30T17:42:19.3955592Z",
              "session_start_time": null,
              "execution_start_time": "2023-04-30T17:42:21.3102726Z",
              "execution_finish_time": "2023-04-30T17:42:21.5522271Z",
              "spark_jobs": null,
              "parent_msg_id": "c87a9434-f09e-4778-876f-b11b645914d9"
            },
            "text/plain": "StatementMeta(Sparkdemopool, 3, 259, Finished, Available)"
          },
          "metadata": {}
        }
      ],
      "metadata": {
        "jupyter": {
          "source_hidden": false,
          "outputs_hidden": false
        },
        "nteract": {
          "transient": {
            "deleting": false
          }
        }
      },
      "source": [
        "ehConf = {\r\n",
        "'eventhubs.connectionString':sc._jvm.org.apache.spark.eventhubs.EventHubsUtils.encrypt(key), \r\n",
        "'ehName':event_hub, \r\n",
        "'eventhubs.consumerGroup':consumer_group \r\n",
        "} \r\n",
        "\r\n",
        "event_hub_stream_df = (\r\n",
        "  spark\r\n",
        "    .readStream\r\n",
        "    .format(\"eventhubs\")\r\n",
        "    .options(**ehConf)\r\n",
        "    .load()\r\n",
        ")\r\n",
        ""
      ]
    },
    {
      "cell_type": "markdown",
      "metadata": {
        "nteract": {
          "transient": {
            "deleting": false
          }
        }
      },
      "source": [
        "## Casting the Body to string"
      ]
    },
    {
      "cell_type": "code",
      "execution_count": 244,
      "outputs": [
        {
          "output_type": "display_data",
          "data": {
            "application/vnd.livy.statement-meta+json": {
              "spark_pool": "Sparkdemopool",
              "session_id": "3",
              "statement_id": 260,
              "state": "finished",
              "livy_statement_state": "available",
              "queued_time": "2023-04-30T17:42:19.4924581Z",
              "session_start_time": null,
              "execution_start_time": "2023-04-30T17:42:21.7513172Z",
              "execution_finish_time": "2023-04-30T17:42:21.9346976Z",
              "spark_jobs": null,
              "parent_msg_id": "d78ceb1a-5f4c-4eba-a8a5-a1a6fd558a0a"
            },
            "text/plain": "StatementMeta(Sparkdemopool, 3, 260, Finished, Available)"
          },
          "metadata": {}
        }
      ],
      "metadata": {
        "jupyter": {
          "source_hidden": false,
          "outputs_hidden": false
        },
        "nteract": {
          "transient": {
            "deleting": false
          }
        }
      },
      "source": [
        "event_hub_stream_cast = event_hub_stream_df.withColumn(\"body\", event_hub_stream_df[\"body\"].cast(\"string\"))"
      ]
    },
    {
      "cell_type": "markdown",
      "metadata": {
        "nteract": {
          "transient": {
            "deleting": false
          }
        }
      },
      "source": [
        "## Ingesting stream data to a delta table "
      ]
    },
    {
      "cell_type": "code",
      "execution_count": 245,
      "outputs": [
        {
          "output_type": "display_data",
          "data": {
            "application/vnd.livy.statement-meta+json": {
              "spark_pool": "Sparkdemopool",
              "session_id": "3",
              "statement_id": 261,
              "state": "finished",
              "livy_statement_state": "available",
              "queued_time": "2023-04-30T17:42:19.564157Z",
              "session_start_time": null,
              "execution_start_time": "2023-04-30T17:42:22.1542436Z",
              "execution_finish_time": "2023-04-30T17:42:23.3569119Z",
              "spark_jobs": null,
              "parent_msg_id": "3d62aa46-6154-49eb-b0fa-817bb632bd6a"
            },
            "text/plain": "StatementMeta(Sparkdemopool, 3, 261, Finished, Available)"
          },
          "metadata": {}
        }
      ],
      "metadata": {
        "jupyter": {
          "source_hidden": false,
          "outputs_hidden": false
        },
        "nteract": {
          "transient": {
            "deleting": false
          }
        }
      },
      "source": [
        "Query = (event_hub_stream_cast.writeStream.format(\"delta\").option(\"checkpointlocation\",f\"{Ingestion_base_path}/_checkpoint\").trigger(processingTime='30 seconds').outputMode(\"append\").start(Ingestion_base_path)).awaitTermination()\r\n",
        "Query.processAllAvailable()\r\n",
        "Query.stop()\r\n",
        "     "
      ]
    },
    {
      "cell_type": "code",
      "execution_count": 246,
      "outputs": [
        {
          "output_type": "display_data",
          "data": {
            "application/vnd.livy.statement-meta+json": {
              "spark_pool": "Sparkdemopool",
              "session_id": "3",
              "statement_id": 262,
              "state": "finished",
              "livy_statement_state": "available",
              "queued_time": "2023-04-30T17:42:19.6175682Z",
              "session_start_time": null,
              "execution_start_time": "2023-04-30T17:42:23.5713883Z",
              "execution_finish_time": "2023-04-30T17:42:24.7490346Z",
              "spark_jobs": null,
              "parent_msg_id": "645435f0-b92a-4ff2-9df7-72730eb78ef1"
            },
            "text/plain": "StatementMeta(Sparkdemopool, 3, 262, Finished, Available)"
          },
          "metadata": {}
        },
        {
          "output_type": "display_data",
          "data": {
            "application/vnd.synapse.widget-view+json": {
              "widget_id": "87ab1172-abb6-49fa-a822-d50595395a63",
              "widget_type": "Synapse.DataFrame"
            },
            "text/plain": "SynapseWidget(Synapse.DataFrame, 87ab1172-abb6-49fa-a822-d50595395a63)"
          },
          "metadata": {}
        }
      ],
      "metadata": {
        "jupyter": {
          "source_hidden": false,
          "outputs_hidden": false
        },
        "nteract": {
          "transient": {
            "deleting": false
          }
        },
        "collapsed": false
      },
      "source": [
        "#check_df = spark.read.format(\"delta\").load(Ingestion_base_path)\r\n",
        "#display(check_df )\r\n",
        "     "
      ]
    }
  ]
}